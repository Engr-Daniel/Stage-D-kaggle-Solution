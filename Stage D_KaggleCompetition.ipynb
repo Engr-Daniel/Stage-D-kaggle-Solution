{
 "cells": [
  {
   "cell_type": "code",
   "execution_count": 1,
   "id": "eb7f0ba3",
   "metadata": {},
   "outputs": [],
   "source": [
    "# Importing Libraries\n",
    "\n",
    "import pandas as pd\n",
    "import numpy as np\n",
    "import matplotlib.pyplot as plt\n",
    "import tensorflow as tf\n",
    "from tensorflow import keras\n",
    "import seaborn as sns\n",
    "%matplotlib inline\n",
    "from skimage import io\n",
    "from tqdm import tqdm\n",
    "import cv2\n",
    "import gc"
   ]
  },
  {
   "cell_type": "code",
   "execution_count": 2,
   "id": "ded76569",
   "metadata": {},
   "outputs": [
    {
     "data": {
      "text/html": [
       "<div>\n",
       "<style scoped>\n",
       "    .dataframe tbody tr th:only-of-type {\n",
       "        vertical-align: middle;\n",
       "    }\n",
       "\n",
       "    .dataframe tbody tr th {\n",
       "        vertical-align: top;\n",
       "    }\n",
       "\n",
       "    .dataframe thead th {\n",
       "        text-align: right;\n",
       "    }\n",
       "</style>\n",
       "<table border=\"1\" class=\"dataframe\">\n",
       "  <thead>\n",
       "    <tr style=\"text-align: right;\">\n",
       "      <th></th>\n",
       "      <th>image_name</th>\n",
       "      <th>tags</th>\n",
       "    </tr>\n",
       "  </thead>\n",
       "  <tbody>\n",
       "    <tr>\n",
       "      <th>0</th>\n",
       "      <td>train_0</td>\n",
       "      <td>haze primary</td>\n",
       "    </tr>\n",
       "    <tr>\n",
       "      <th>1</th>\n",
       "      <td>train_1</td>\n",
       "      <td>agriculture clear primary water</td>\n",
       "    </tr>\n",
       "    <tr>\n",
       "      <th>2</th>\n",
       "      <td>train_2</td>\n",
       "      <td>clear primary</td>\n",
       "    </tr>\n",
       "    <tr>\n",
       "      <th>3</th>\n",
       "      <td>train_3</td>\n",
       "      <td>clear primary</td>\n",
       "    </tr>\n",
       "    <tr>\n",
       "      <th>4</th>\n",
       "      <td>train_4</td>\n",
       "      <td>agriculture clear habitation primary road</td>\n",
       "    </tr>\n",
       "  </tbody>\n",
       "</table>\n",
       "</div>"
      ],
      "text/plain": [
       "  image_name                                       tags\n",
       "0    train_0                               haze primary\n",
       "1    train_1            agriculture clear primary water\n",
       "2    train_2                              clear primary\n",
       "3    train_3                              clear primary\n",
       "4    train_4  agriculture clear habitation primary road"
      ]
     },
     "execution_count": 2,
     "metadata": {},
     "output_type": "execute_result"
    }
   ],
   "source": [
    "# Loading Train Dataset\n",
    "\n",
    "train_classes = pd.read_csv(\"train_classes.csv\")\n",
    "train_classes.head()"
   ]
  },
  {
   "cell_type": "code",
   "execution_count": 3,
   "id": "5d3da70d",
   "metadata": {},
   "outputs": [
    {
     "data": {
      "text/html": [
       "<div>\n",
       "<style scoped>\n",
       "    .dataframe tbody tr th:only-of-type {\n",
       "        vertical-align: middle;\n",
       "    }\n",
       "\n",
       "    .dataframe tbody tr th {\n",
       "        vertical-align: top;\n",
       "    }\n",
       "\n",
       "    .dataframe thead th {\n",
       "        text-align: right;\n",
       "    }\n",
       "</style>\n",
       "<table border=\"1\" class=\"dataframe\">\n",
       "  <thead>\n",
       "    <tr style=\"text-align: right;\">\n",
       "      <th></th>\n",
       "      <th>image_name</th>\n",
       "      <th>tags</th>\n",
       "    </tr>\n",
       "  </thead>\n",
       "  <tbody>\n",
       "    <tr>\n",
       "      <th>0</th>\n",
       "      <td>test_0</td>\n",
       "      <td>primary clear agriculture road water</td>\n",
       "    </tr>\n",
       "    <tr>\n",
       "      <th>1</th>\n",
       "      <td>test_1</td>\n",
       "      <td>primary clear agriculture road water</td>\n",
       "    </tr>\n",
       "    <tr>\n",
       "      <th>2</th>\n",
       "      <td>test_2</td>\n",
       "      <td>primary clear agriculture road water</td>\n",
       "    </tr>\n",
       "    <tr>\n",
       "      <th>3</th>\n",
       "      <td>test_3</td>\n",
       "      <td>primary clear agriculture road water</td>\n",
       "    </tr>\n",
       "    <tr>\n",
       "      <th>4</th>\n",
       "      <td>test_4</td>\n",
       "      <td>primary clear agriculture road water</td>\n",
       "    </tr>\n",
       "  </tbody>\n",
       "</table>\n",
       "</div>"
      ],
      "text/plain": [
       "  image_name                                  tags\n",
       "0     test_0  primary clear agriculture road water\n",
       "1     test_1  primary clear agriculture road water\n",
       "2     test_2  primary clear agriculture road water\n",
       "3     test_3  primary clear agriculture road water\n",
       "4     test_4  primary clear agriculture road water"
      ]
     },
     "execution_count": 3,
     "metadata": {},
     "output_type": "execute_result"
    }
   ],
   "source": [
    "# Loading Test Dataset\n",
    "\n",
    "test_classes= pd.read_csv(\"sample_submission.csv\")\n",
    "test_classes.head()"
   ]
  },
  {
   "cell_type": "code",
   "execution_count": 4,
   "id": "cab47212",
   "metadata": {},
   "outputs": [
    {
     "data": {
      "text/plain": [
       "['haze', 'primary', 'agriculture']"
      ]
     },
     "execution_count": 4,
     "metadata": {},
     "output_type": "execute_result"
    }
   ],
   "source": [
    "label_list = []\n",
    "for tag_str in train_classes.tags.values:\n",
    "    labels = tag_str.split(' ')\n",
    "    for label in labels:\n",
    "        label_list.append(label)\n",
    "label_list[:3]"
   ]
  },
  {
   "cell_type": "code",
   "execution_count": 5,
   "id": "a58ee347",
   "metadata": {},
   "outputs": [
    {
     "data": {
      "text/plain": [
       "defaultdict(int,\n",
       "            {'haze': 2697,\n",
       "             'primary': 37513,\n",
       "             'agriculture': 12315,\n",
       "             'clear': 28431,\n",
       "             'water': 7411,\n",
       "             'habitation': 3660,\n",
       "             'road': 8071,\n",
       "             'cultivation': 4547,\n",
       "             'slash_burn': 209,\n",
       "             'cloudy': 2089,\n",
       "             'partly_cloudy': 7261,\n",
       "             'conventional_mine': 100,\n",
       "             'bare_ground': 862,\n",
       "             'artisinal_mine': 339,\n",
       "             'blooming': 332,\n",
       "             'selective_logging': 340,\n",
       "             'blow_down': 101})"
      ]
     },
     "execution_count": 5,
     "metadata": {},
     "output_type": "execute_result"
    }
   ],
   "source": [
    "# Checking Unique members in the label\n",
    "\n",
    "from collections import Counter, defaultdict\n",
    "count_ = defaultdict(int)\n",
    "for i in label_list:\n",
    "        count_[i] += 1\n",
    "count_"
   ]
  },
  {
   "cell_type": "code",
   "execution_count": 6,
   "id": "abd96902",
   "metadata": {},
   "outputs": [
    {
     "data": {
      "image/png": "[encoded data removed]",
      "text/plain": [
       "<Figure size 432x288 with 1 Axes>"
      ]
     },
     "metadata": {
      "needs_background": "light"
     },
     "output_type": "display_data"
    }
   ],
   "source": [
    "tags = list(count_.keys()) \n",
    "y = list(count_.values())\n",
    "sns.barplot(x = tags, y = y);\n",
    "plt.xlabel('labels');\n",
    "plt.xticks(rotation = 90);\n",
    "plt.title('tags for train_classes');"
   ]
  },
  {
   "cell_type": "code",
   "execution_count": 7,
   "id": "005cb72d",
   "metadata": {},
   "outputs": [
    {
     "data": {
      "text/plain": [
       "Text(0.5, 1.0, 'Tag counts for test set')"
      ]
     },
     "execution_count": 7,
     "metadata": {},
     "output_type": "execute_result"
    },
    {
     "data": {
      "image/png": "[encoded data removed]",
      "text/plain": [
       "<Figure size 432x288 with 1 Axes>"
      ]
     },
     "metadata": {
      "needs_background": "light"
     },
     "output_type": "display_data"
    }
   ],
   "source": [
    "# Placeholder for test set\n",
    "\n",
    "test_label = test_classes['tags'].apply(lambda x: x.split(' '))\n",
    "from collections import Counter, defaultdict\n",
    "test_counts = defaultdict(int)\n",
    "for i in test_label:\n",
    "    for j in i:\n",
    "        test_counts[j] += 1\n",
    "\n",
    "tag_list_test=list(test_counts.keys()) \n",
    "test_count=list(test_counts.values())\n",
    "sns.barplot(x=tag_list_test, y = test_count);\n",
    "plt.xlabel('labels');\n",
    "plt.xticks(rotation = 90);\n",
    "plt.title('Tag counts for test set')"
   ]
  },
  {
   "cell_type": "code",
   "execution_count": 9,
   "id": "b520f109",
   "metadata": {},
   "outputs": [
    {
     "data": {
      "text/plain": [
       "<matplotlib.image.AxesImage at 0x2321e0584f0>"
      ]
     },
     "execution_count": 9,
     "metadata": {},
     "output_type": "execute_result"
    },
    {
     "data": {
      "image/png": "[encoded data removed]",
      "text/plain": [
       "<Figure size 432x288 with 1 Axes>"
      ]
     },
     "metadata": {
      "needs_background": "light"
     },
     "output_type": "display_data"
    }
   ],
   "source": [
    "# Visualize image\n",
    "\n",
    "img = 'train_19.jpg'\n",
    "path = './train-jpg/{}'.format(img)\n",
    "plt.imshow(io.imread(path))"
   ]
  },
  {
   "cell_type": "code",
   "execution_count": 10,
   "id": "c3ce2831",
   "metadata": {},
   "outputs": [
    {
     "data": {
      "text/plain": [
       "{'haze': 0,\n",
       " 'primary': 1,\n",
       " 'agriculture': 2,\n",
       " 'clear': 3,\n",
       " 'water': 4,\n",
       " 'habitation': 5,\n",
       " 'road': 6,\n",
       " 'cultivation': 7,\n",
       " 'slash_burn': 8,\n",
       " 'cloudy': 9,\n",
       " 'partly_cloudy': 10,\n",
       " 'conventional_mine': 11,\n",
       " 'bare_ground': 12,\n",
       " 'artisinal_mine': 13,\n",
       " 'blooming': 14,\n",
       " 'selective_logging': 15,\n",
       " 'blow_down': 16}"
      ]
     },
     "execution_count": 10,
     "metadata": {},
     "output_type": "execute_result"
    }
   ],
   "source": [
    "# Creating Dictionary for class label\n",
    "\n",
    "class_label = { tag: name for name, tag in enumerate(tags)}\n",
    "class_label"
   ]
  },
  {
   "cell_type": "code",
   "execution_count": 11,
   "id": "35f59c28",
   "metadata": {},
   "outputs": [
    {
     "data": {
      "text/plain": [
       "array(['haze', 'primary', 'agriculture', 'clear', 'water', 'habitation',\n",
       "       'road', 'cultivation', 'slash_burn', 'cloudy', 'partly_cloudy',\n",
       "       'conventional_mine', 'bare_ground', 'artisinal_mine', 'blooming',\n",
       "       'selective_logging', 'blow_down'], dtype='<U17')"
      ]
     },
     "execution_count": 11,
     "metadata": {},
     "output_type": "execute_result"
    }
   ],
   "source": [
    "# An array of unique label\n",
    "\n",
    "lst = []\n",
    "for key,value in class_label.items():\n",
    "    lst.append(key)\n",
    "lst = np.array(lst)\n",
    "lst"
   ]
  },
  {
   "cell_type": "markdown",
   "id": "b217b4de",
   "metadata": {},
   "source": [
    "###### Definig classes and label variables and Encoding labels using OneHotEncoder"
   ]
  },
  {
   "cell_type": "code",
   "execution_count": 12,
   "id": "845b6d76",
   "metadata": {},
   "outputs": [
    {
     "name": "stderr",
     "output_type": "stream",
     "text": [
      "100%|████████████████████████████████████████████████████████████████████████████| 40479/40479 [08:50<00:00, 76.30it/s]\n"
     ]
    }
   ],
   "source": [
    "train_images, train_labels = [],[]\n",
    "for image_name, tags in tqdm(train_classes.values, miniters=1000):\n",
    "    arr = cv2.imread('./train-jpg/{}.jpg'.format(image_name))\n",
    "    targets = np.zeros(17)\n",
    "    for t in tags.split(' '):\n",
    "        targets[class_label[t]]=1\n",
    "    train_images.append(cv2.resize(arr,(64,64)))\n",
    "    train_labels.append(targets)"
   ]
  },
  {
   "cell_type": "code",
   "execution_count": 13,
   "id": "714a55ef",
   "metadata": {},
   "outputs": [
    {
     "name": "stderr",
     "output_type": "stream",
     "text": [
      "100%|████████████████████████████████████████████████████████████████████████████| 40669/40669 [08:26<00:00, 80.26it/s]\n",
      "100%|████████████████████████████████████████████████████████████████████████████| 20522/20522 [04:20<00:00, 78.63it/s]\n"
     ]
    }
   ],
   "source": [
    "test_images = []\n",
    "for image, label in tqdm(test_classes[:40669].values, miniters = 1000):\n",
    "    path = './test-jpg/{}.jpg'.format(image)\n",
    "    test_images.append(cv2.resize(cv2.imread(path), (64,64)))\n",
    "for image, label in tqdm(test_classes[40669:].values, miniters = 1000):\n",
    "    path1 = './test-jpg-additional/{}.jpg'.format(image)\n",
    "    test_images.append(cv2.resize(cv2.imread(path1), (64,64)))"
   ]
  },
  {
   "cell_type": "code",
   "execution_count": 14,
   "id": "50d75b05",
   "metadata": {},
   "outputs": [],
   "source": [
    "# Normalizing Dataset\n",
    "\n",
    "train_images = np.array(train_images, np.float16)/255.0\n",
    "train_labels = np.array(train_labels, np.uint8)\n",
    "test_images = np.array(test_images,np.float16)/255.0"
   ]
  },
  {
   "cell_type": "code",
   "execution_count": 15,
   "id": "32bc8952",
   "metadata": {},
   "outputs": [
    {
     "data": {
      "text/plain": [
       "9"
      ]
     },
     "execution_count": 15,
     "metadata": {},
     "output_type": "execute_result"
    }
   ],
   "source": [
    "gc.collect()"
   ]
  },
  {
   "cell_type": "markdown",
   "id": "95abd739",
   "metadata": {},
   "source": [
    "###### Encoding"
   ]
  },
  {
   "cell_type": "code",
   "execution_count": 16,
   "id": "f500dd1a",
   "metadata": {},
   "outputs": [
    {
     "name": "stdout",
     "output_type": "stream",
     "text": [
      "(30359, 64, 64, 3) (30359, 17) (10120, 64, 64, 3) (10120, 17)\n"
     ]
    }
   ],
   "source": [
    "from sklearn.model_selection import train_test_split, KFold\n",
    "\n",
    "x_train, x_val, y_train, y_val = train_test_split(train_images, train_labels, test_size = 0.25, shuffle = True, random_state = 0)\n",
    "\n",
    "print(x_train.shape, y_train.shape, x_val.shape, y_val.shape)"
   ]
  },
  {
   "cell_type": "markdown",
   "id": "8fc53ff3",
   "metadata": {},
   "source": [
    "###### First Model"
   ]
  },
  {
   "cell_type": "code",
   "execution_count": 17,
   "id": "fd736ba4",
   "metadata": {},
   "outputs": [],
   "source": [
    "from keras import backend as K\n",
    "from sklearn.metrics import fbeta_score\n",
    "from tensorflow import keras\n",
    "from keras.models import Sequential\n",
    "from tensorflow.keras.preprocessing.image import load_img, img_to_array\n",
    "from keras.layers import Dense, Dropout, Flatten\n",
    "from keras.layers import Conv2D, MaxPooling2D, BatchNormalization\n",
    "from keras.callbacks import EarlyStopping, ModelCheckpoint\n",
    "from keras import optimizers"
   ]
  },
  {
   "cell_type": "code",
   "execution_count": 18,
   "id": "527881d9",
   "metadata": {},
   "outputs": [],
   "source": [
    "def fbeta(y_true, y_pred, threshold_shift=0):\n",
    "    beta = 2\n",
    "\n",
    "    # just in case of hipster activation at the final layer\n",
    "    y_pred = K.clip(y_pred, 0, 1)\n",
    "\n",
    "    # shifting the prediction threshold from .5 if needed\n",
    "    y_pred_bin = K.round(y_pred + threshold_shift)\n",
    "\n",
    "    tp = K.sum(K.round(y_true * y_pred_bin)) + K.epsilon()\n",
    "    fp = K.sum(K.round(K.clip(y_pred_bin - y_true, 0, 1)))\n",
    "    fn = K.sum(K.round(K.clip(y_true - y_pred, 0, 1)))\n",
    "\n",
    "    precision = tp / (tp + fp)\n",
    "    recall = tp / (tp + fn)\n",
    "\n",
    "    beta_squared = beta ** 2\n",
    "    return (beta_squared + 1) * (precision * recall) / (beta_squared * precision + recall + K.epsilon())\n"
   ]
  },
  {
   "cell_type": "code",
   "execution_count": 19,
   "id": "31f1ebea",
   "metadata": {},
   "outputs": [],
   "source": [
    "from keras.layers import Conv2D, Dense, Flatten, MaxPooling2D, BatchNormalization, Dropout\n",
    "from keras.optimizers import Adam, RMSprop"
   ]
  },
  {
   "cell_type": "code",
   "execution_count": 20,
   "id": "f8f9c8e5",
   "metadata": {},
   "outputs": [
    {
     "name": "stdout",
     "output_type": "stream",
     "text": [
      "Epoch 1/10\n",
      "238/238 [==============================] - 79s 322ms/step - loss: 0.2611 - fbeta: 0.5919\n",
      "Epoch 2/10\n",
      "238/238 [==============================] - 82s 344ms/step - loss: 0.2152 - fbeta: 0.6370\n",
      "Epoch 3/10\n",
      "238/238 [==============================] - 81s 339ms/step - loss: 0.2086 - fbeta: 0.6534\n",
      "Epoch 4/10\n",
      "238/238 [==============================] - 77s 322ms/step - loss: 0.2038 - fbeta: 0.6653\n",
      "Epoch 5/10\n",
      "238/238 [==============================] - 76s 321ms/step - loss: 0.1978 - fbeta: 0.6796\n",
      "Epoch 6/10\n",
      "238/238 [==============================] - 75s 316ms/step - loss: 0.1937 - fbeta: 0.6927\n",
      "Epoch 7/10\n",
      "238/238 [==============================] - 75s 317ms/step - loss: 0.1907 - fbeta: 0.6986\n",
      "Epoch 8/10\n",
      "238/238 [==============================] - 74s 310ms/step - loss: 0.1874 - fbeta: 0.7062\n",
      "Epoch 9/10\n",
      "238/238 [==============================] - 51s 215ms/step - loss: 0.1852 - fbeta: 0.7103\n",
      "Epoch 10/10\n",
      "238/238 [==============================] - 50s 209ms/step - loss: 0.1841 - fbeta: 0.7130\n",
      "317/317 [==============================] - 5s 16ms/step - loss: 0.1982 - fbeta: 0.7506\n",
      "Tested Acc: 0.7506147027015686\n"
     ]
    }
   ],
   "source": [
    "model = keras.Sequential()  #this model contains two hidden layer, an input and an output layer\n",
    "model.add(Conv2D(128, 5, 2, activation = \"relu\", input_shape = (64, 64, 3)))\n",
    "model.add(MaxPooling2D())\n",
    "model.add(Conv2D(64, 3, 2, activation = \"relu\"))\n",
    "model.add(MaxPooling2D())\n",
    "model.add(Flatten())\n",
    "model.add(Dense(17, activation = \"sigmoid\"))\n",
    "model.compile(loss = \"binary_crossentropy\", optimizer = 'adam', metrics = [fbeta])\n",
    "model.fit(x_train, y_train, epochs = 10, batch_size = 128)\n",
    "val_loss,val_acc = model.evaluate(x_val, y_val)\n",
    "print('Tested Acc:', val_acc)"
   ]
  },
  {
   "cell_type": "markdown",
   "id": "aacc578d",
   "metadata": {},
   "source": [
    "###### Second Model"
   ]
  },
  {
   "cell_type": "code",
   "execution_count": 21,
   "id": "beb8c31a",
   "metadata": {},
   "outputs": [],
   "source": [
    "from keras.applications.vgg16 import VGG16"
   ]
  },
  {
   "cell_type": "code",
   "execution_count": 22,
   "id": "1ea9d7b6",
   "metadata": {},
   "outputs": [
    {
     "name": "stdout",
     "output_type": "stream",
     "text": [
      "Downloading data from https://storage.googleapis.com/tensorflow/keras-applications/vgg16/vgg16_weights_tf_dim_ordering_tf_kernels_notop.h5\n",
      "58889256/58889256 [==============================] - 26s 0us/step\n",
      "Epoch 1/10\n",
      "238/238 [==============================] - 690s 3s/step - loss: 0.2296 - fbeta: 0.6801\n",
      "Epoch 2/10\n",
      "238/238 [==============================] - 654s 3s/step - loss: 0.1651 - fbeta: 0.7581\n",
      "Epoch 3/10\n",
      "238/238 [==============================] - 736s 3s/step - loss: 0.1536 - fbeta: 0.7756\n",
      "Epoch 4/10\n",
      "238/238 [==============================] - 692s 3s/step - loss: 0.1479 - fbeta: 0.7842\n",
      "Epoch 5/10\n",
      "238/238 [==============================] - 702s 3s/step - loss: 0.1442 - fbeta: 0.7906\n",
      "Epoch 6/10\n",
      "238/238 [==============================] - 740s 3s/step - loss: 0.1421 - fbeta: 0.7951\n",
      "Epoch 7/10\n",
      "238/238 [==============================] - 775s 3s/step - loss: 0.1392 - fbeta: 0.7992\n",
      "Epoch 8/10\n",
      "238/238 [==============================] - 704s 3s/step - loss: 0.1369 - fbeta: 0.8029\n",
      "Epoch 9/10\n",
      "238/238 [==============================] - 647s 3s/step - loss: 0.1358 - fbeta: 0.8047\n",
      "Epoch 10/10\n",
      "238/238 [==============================] - 635s 3s/step - loss: 0.1344 - fbeta: 0.8060\n",
      "317/317 [==============================] - 223s 703ms/step - loss: 0.1335 - fbeta: 0.8025\n",
      "Tested Acc: 0.802488386631012\n"
     ]
    }
   ],
   "source": [
    "opimizer = Adam(0.003, decay = 0.0005)\n",
    "base_model = VGG16(weights = 'imagenet', include_top = False, input_shape = (64,64,3))\n",
    "\n",
    "for layer in base_model.layers:\n",
    "    layer.trainable = False\n",
    "    \n",
    "    model = Sequential([\n",
    "        base_model, Flatten(),\n",
    "        Dense(128, activation = 'relu'),\n",
    "        Dropout(0.2),\n",
    "        Dense(64, activation = 'relu'),\n",
    "        Dropout(0.2),\n",
    "        Dense(17, activation = 'sigmoid')\n",
    "    ])\n",
    "\n",
    "model.compile(loss = 'binary_crossentropy', optimizer = 'adam', metrics = [fbeta])\n",
    "model.fit(x_train, y_train,epochs = 10, batch_size = 128)\n",
    "val_loss,val_fbeta = model.evaluate(x_val, y_val)\n",
    "print('Tested Acc:', val_fbeta)"
   ]
  },
  {
   "cell_type": "code",
   "execution_count": 23,
   "id": "4f5fe20d",
   "metadata": {},
   "outputs": [
    {
     "data": {
      "text/plain": [
       "3172"
      ]
     },
     "execution_count": 23,
     "metadata": {},
     "output_type": "execute_result"
    }
   ],
   "source": [
    "gc.collect()"
   ]
  },
  {
   "cell_type": "markdown",
   "id": "cea11354",
   "metadata": {},
   "source": [
    "###### Making Prediction"
   ]
  },
  {
   "cell_type": "code",
   "execution_count": 24,
   "id": "a42c6360",
   "metadata": {},
   "outputs": [
    {
     "name": "stdout",
     "output_type": "stream",
     "text": [
      "479/479 [==============================] - 1359s 3s/step\n"
     ]
    }
   ],
   "source": [
    "predictions = model.predict(test_images, batch_size = 128)\n",
    "result_list = []\n",
    "result_list.append(predictions)"
   ]
  },
  {
   "cell_type": "code",
   "execution_count": 25,
   "id": "61616c7e",
   "metadata": {},
   "outputs": [
    {
     "data": {
      "text/html": [
       "<div>\n",
       "<style scoped>\n",
       "    .dataframe tbody tr th:only-of-type {\n",
       "        vertical-align: middle;\n",
       "    }\n",
       "\n",
       "    .dataframe tbody tr th {\n",
       "        vertical-align: top;\n",
       "    }\n",
       "\n",
       "    .dataframe thead th {\n",
       "        text-align: right;\n",
       "    }\n",
       "</style>\n",
       "<table border=\"1\" class=\"dataframe\">\n",
       "  <thead>\n",
       "    <tr style=\"text-align: right;\">\n",
       "      <th></th>\n",
       "      <th>haze</th>\n",
       "      <th>primary</th>\n",
       "      <th>agriculture</th>\n",
       "      <th>clear</th>\n",
       "      <th>water</th>\n",
       "      <th>habitation</th>\n",
       "      <th>road</th>\n",
       "      <th>cultivation</th>\n",
       "      <th>slash_burn</th>\n",
       "      <th>cloudy</th>\n",
       "      <th>partly_cloudy</th>\n",
       "      <th>conventional_mine</th>\n",
       "      <th>bare_ground</th>\n",
       "      <th>artisinal_mine</th>\n",
       "      <th>blooming</th>\n",
       "      <th>selective_logging</th>\n",
       "      <th>blow_down</th>\n",
       "    </tr>\n",
       "  </thead>\n",
       "  <tbody>\n",
       "    <tr>\n",
       "      <th>0</th>\n",
       "      <td>0.004558</td>\n",
       "      <td>0.999930</td>\n",
       "      <td>0.012800</td>\n",
       "      <td>0.950728</td>\n",
       "      <td>0.009229</td>\n",
       "      <td>0.000427</td>\n",
       "      <td>0.004083</td>\n",
       "      <td>0.005711</td>\n",
       "      <td>0.000022</td>\n",
       "      <td>7.338158e-06</td>\n",
       "      <td>0.019926</td>\n",
       "      <td>0.000003</td>\n",
       "      <td>0.000238</td>\n",
       "      <td>0.000004</td>\n",
       "      <td>0.006319</td>\n",
       "      <td>0.001103</td>\n",
       "      <td>0.001086</td>\n",
       "    </tr>\n",
       "    <tr>\n",
       "      <th>1</th>\n",
       "      <td>0.000066</td>\n",
       "      <td>0.999987</td>\n",
       "      <td>0.021376</td>\n",
       "      <td>0.998112</td>\n",
       "      <td>0.024498</td>\n",
       "      <td>0.002338</td>\n",
       "      <td>0.014136</td>\n",
       "      <td>0.020386</td>\n",
       "      <td>0.000172</td>\n",
       "      <td>3.482679e-07</td>\n",
       "      <td>0.003967</td>\n",
       "      <td>0.000006</td>\n",
       "      <td>0.000349</td>\n",
       "      <td>0.000011</td>\n",
       "      <td>0.027807</td>\n",
       "      <td>0.014920</td>\n",
       "      <td>0.003735</td>\n",
       "    </tr>\n",
       "    <tr>\n",
       "      <th>2</th>\n",
       "      <td>0.000095</td>\n",
       "      <td>0.999530</td>\n",
       "      <td>0.032562</td>\n",
       "      <td>0.000058</td>\n",
       "      <td>0.044421</td>\n",
       "      <td>0.001371</td>\n",
       "      <td>0.016256</td>\n",
       "      <td>0.007787</td>\n",
       "      <td>0.000025</td>\n",
       "      <td>2.687912e-04</td>\n",
       "      <td>0.999349</td>\n",
       "      <td>0.000002</td>\n",
       "      <td>0.000090</td>\n",
       "      <td>0.000022</td>\n",
       "      <td>0.000055</td>\n",
       "      <td>0.000098</td>\n",
       "      <td>0.000043</td>\n",
       "    </tr>\n",
       "    <tr>\n",
       "      <th>3</th>\n",
       "      <td>0.000171</td>\n",
       "      <td>0.999944</td>\n",
       "      <td>0.019817</td>\n",
       "      <td>0.989542</td>\n",
       "      <td>0.009957</td>\n",
       "      <td>0.001155</td>\n",
       "      <td>0.006665</td>\n",
       "      <td>0.010715</td>\n",
       "      <td>0.000113</td>\n",
       "      <td>3.096769e-06</td>\n",
       "      <td>0.013794</td>\n",
       "      <td>0.000005</td>\n",
       "      <td>0.000471</td>\n",
       "      <td>0.000005</td>\n",
       "      <td>0.014834</td>\n",
       "      <td>0.004108</td>\n",
       "      <td>0.004108</td>\n",
       "    </tr>\n",
       "    <tr>\n",
       "      <th>4</th>\n",
       "      <td>0.014130</td>\n",
       "      <td>0.898380</td>\n",
       "      <td>0.201082</td>\n",
       "      <td>0.006435</td>\n",
       "      <td>0.301432</td>\n",
       "      <td>0.019436</td>\n",
       "      <td>0.137466</td>\n",
       "      <td>0.049682</td>\n",
       "      <td>0.000889</td>\n",
       "      <td>1.011767e-01</td>\n",
       "      <td>0.904405</td>\n",
       "      <td>0.000709</td>\n",
       "      <td>0.006171</td>\n",
       "      <td>0.001476</td>\n",
       "      <td>0.000922</td>\n",
       "      <td>0.001390</td>\n",
       "      <td>0.000667</td>\n",
       "    </tr>\n",
       "  </tbody>\n",
       "</table>\n",
       "</div>"
      ],
      "text/plain": [
       "       haze   primary  agriculture     clear     water  habitation      road  \\\n",
       "0  0.004558  0.999930     0.012800  0.950728  0.009229    0.000427  0.004083   \n",
       "1  0.000066  0.999987     0.021376  0.998112  0.024498    0.002338  0.014136   \n",
       "2  0.000095  0.999530     0.032562  0.000058  0.044421    0.001371  0.016256   \n",
       "3  0.000171  0.999944     0.019817  0.989542  0.009957    0.001155  0.006665   \n",
       "4  0.014130  0.898380     0.201082  0.006435  0.301432    0.019436  0.137466   \n",
       "\n",
       "   cultivation  slash_burn        cloudy  partly_cloudy  conventional_mine  \\\n",
       "0     0.005711    0.000022  7.338158e-06       0.019926           0.000003   \n",
       "1     0.020386    0.000172  3.482679e-07       0.003967           0.000006   \n",
       "2     0.007787    0.000025  2.687912e-04       0.999349           0.000002   \n",
       "3     0.010715    0.000113  3.096769e-06       0.013794           0.000005   \n",
       "4     0.049682    0.000889  1.011767e-01       0.904405           0.000709   \n",
       "\n",
       "   bare_ground  artisinal_mine  blooming  selective_logging  blow_down  \n",
       "0     0.000238        0.000004  0.006319           0.001103   0.001086  \n",
       "1     0.000349        0.000011  0.027807           0.014920   0.003735  \n",
       "2     0.000090        0.000022  0.000055           0.000098   0.000043  \n",
       "3     0.000471        0.000005  0.014834           0.004108   0.004108  \n",
       "4     0.006171        0.001476  0.000922           0.001390   0.000667  "
      ]
     },
     "execution_count": 25,
     "metadata": {},
     "output_type": "execute_result"
    }
   ],
   "source": [
    "# Creating dataframe of prediction and associated label\n",
    "\n",
    "answer = np.array(result_list[0])\n",
    "for i in range(1,len(result_list)):\n",
    "    answer += np.array(result_list[i])\n",
    "answer = pd.DataFrame(answer, columns = lst)\n",
    "answer.head()"
   ]
  },
  {
   "cell_type": "code",
   "execution_count": 26,
   "id": "1f10f7f1",
   "metadata": {},
   "outputs": [
    {
     "name": "stderr",
     "output_type": "stream",
     "text": [
      "100%|███████████████████████████████████████████████████████████████████████████| 61191/61191 [02:32<00:00, 400.11it/s]\n"
     ]
    }
   ],
   "source": [
    "pred_ = []\n",
    "for i in tqdm(range(answer.shape[0]),miniters = 1000):\n",
    "    a = answer.loc[[i]]\n",
    "    a = a.apply(lambda x: x > 0.2, axis = 1)\n",
    "    a = a.transpose()\n",
    "    a = a.loc[a[i]== True]\n",
    "    ' '.join(list(a.index))\n",
    "    pred_.append(' '.join(list(a.index)))"
   ]
  },
  {
   "cell_type": "markdown",
   "id": "b0f38003",
   "metadata": {},
   "source": [
    "###### Creating Submission file"
   ]
  },
  {
   "cell_type": "code",
   "execution_count": 27,
   "id": "e91086bd",
   "metadata": {},
   "outputs": [],
   "source": [
    "test_classes['tags'] = pred_\n",
    "test_classes.to_csv('SubmissionFile.csv', index = False)"
   ]
  }
 ],
 "metadata": {
  "kernelspec": {
   "display_name": "Python 3 (ipykernel)",
   "language": "python",
   "name": "python3"
  },
  "language_info": {
   "codemirror_mode": {
    "name": "ipython",
    "version": 3
   },
   "file_extension": ".py",
   "mimetype": "text/x-python",
   "name": "python",
   "nbconvert_exporter": "python",
   "pygments_lexer": "ipython3",
   "version": "3.9.7"
  }
 },
 "nbformat": 4,
 "nbformat_minor": 5
}
